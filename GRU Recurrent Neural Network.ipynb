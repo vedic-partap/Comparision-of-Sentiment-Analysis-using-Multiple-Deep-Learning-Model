{
  "nbformat": 4,
  "nbformat_minor": 0,
  "metadata": {
    "colab": {
      "name": "LSTM Recurrent Neural Network.ipynb",
      "version": "0.3.2",
      "views": {},
      "default_view": {},
      "provenance": []
    },
    "kernelspec": {
      "display_name": "Python 3",
      "language": "python",
      "name": "python3"
    },
    "accelerator": "GPU"
  },
  "cells": [
    {
      "metadata": {
        "id": "YXAKscqBD-Iv",
        "colab_type": "text"
      },
      "cell_type": "markdown",
      "source": [
        "# GRU  Network #"
      ]
    },
    {
      "metadata": {
        "id": "A_1E7B9ND-I2",
        "colab_type": "text"
      },
      "cell_type": "markdown",
      "source": [
        "In this notebook we will build GRU Recurrent NN to classify Sentiments using Keras"
      ]
    },
    {
      "metadata": {
        "id": "4g1JedwCD-JM",
        "colab_type": "code",
        "colab": {
          "autoexec": {
            "startup": false,
            "wait_interval": 0
          },
          "base_uri": "https://localhost:8080/",
          "height": 34
        },
        "outputId": "d01fa771-7bef-474e-9a64-4297c712f954",
        "executionInfo": {
          "status": "ok",
          "timestamp": 1530810281761,
          "user_tz": -330,
          "elapsed": 2315,
          "user": {
            "displayName": "Vedic Partap",
            "photoUrl": "//lh5.googleusercontent.com/-gs70AsKgU3w/AAAAAAAAAAI/AAAAAAAAAAU/1yT4IV1_mds/s50-c-k-no/photo.jpg",
            "userId": "111191292221666082265"
          }
        }
      },
      "cell_type": "code",
      "source": [
        "import keras\n",
        "from keras.datasets import imdb\n",
        "from keras.preprocessing.sequence import pad_sequences\n",
        "from keras.models import Sequential\n",
        "from keras.layers import Dense, Dropout, Embedding, SpatialDropout1D\n",
        "from keras.layers import GRU\n",
        "from keras.callbacks import ModelCheckpoint\n",
        "import os\n",
        "from sklearn.metrics import roc_auc_score \n",
        "import matplotlib.pyplot as plt \n",
        "%matplotlib inline"
      ],
      "execution_count": 1,
      "outputs": [
        {
          "output_type": "stream",
          "text": [
            "Using TensorFlow backend.\n"
          ],
          "name": "stderr"
        }
      ]
    },
    {
      "metadata": {
        "id": "FK_FlUzfD-Jt",
        "colab_type": "text"
      },
      "cell_type": "markdown",
      "source": [
        "**Set Hyperparameter**"
      ]
    },
    {
      "metadata": {
        "id": "DQ9GWoDCD-Jw",
        "colab_type": "code",
        "colab": {
          "autoexec": {
            "startup": false,
            "wait_interval": 0
          }
        }
      },
      "cell_type": "code",
      "source": [
        "output_dir = 'data/gru'\n",
        "\n",
        "#Training \n",
        "epochs = 4\n",
        "batch_size = 128\n",
        "\n",
        "#vector-space embedding\n",
        "n_dim = 64\n",
        "n_unique_words = 10000\n",
        "max_review_length = 100\n",
        "pad_type = trunc_type = 'pre'\n",
        "drop_embed = 0.25\n",
        "\n",
        "#gru architecture \n",
        "n_gru = 256\n",
        "drop_gru = 0.2\n"
      ],
      "execution_count": 0,
      "outputs": []
    },
    {
      "metadata": {
        "id": "ZjYQiiizD-KM",
        "colab_type": "text"
      },
      "cell_type": "markdown",
      "source": [
        "**Load Data**"
      ]
    },
    {
      "metadata": {
        "id": "DdNDRZnPD-Kd",
        "colab_type": "code",
        "colab": {
          "autoexec": {
            "startup": false,
            "wait_interval": 0
          }
        }
      },
      "cell_type": "code",
      "source": [
        "(X_train,y_train),(X_valid,y_valid) = imdb.load_data(num_words=n_unique_words)"
      ],
      "execution_count": 0,
      "outputs": []
    },
    {
      "metadata": {
        "id": "_fJGaG8cD-LJ",
        "colab_type": "code",
        "colab": {
          "autoexec": {
            "startup": false,
            "wait_interval": 0
          },
          "base_uri": "https://localhost:8080/",
          "height": 34
        },
        "outputId": "15d3296d-ecb1-4f49-8a16-8616f8180155",
        "executionInfo": {
          "status": "ok",
          "timestamp": 1530810290757,
          "user_tz": -330,
          "elapsed": 934,
          "user": {
            "displayName": "Vedic Partap",
            "photoUrl": "//lh5.googleusercontent.com/-gs70AsKgU3w/AAAAAAAAAAI/AAAAAAAAAAU/1yT4IV1_mds/s50-c-k-no/photo.jpg",
            "userId": "111191292221666082265"
          }
        }
      },
      "cell_type": "code",
      "source": [
        "X_train.shape,y_train.shape"
      ],
      "execution_count": 4,
      "outputs": [
        {
          "output_type": "execute_result",
          "data": {
            "text/plain": [
              "((25000,), (25000,))"
            ]
          },
          "metadata": {
            "tags": []
          },
          "execution_count": 4
        }
      ]
    },
    {
      "metadata": {
        "id": "PEcesQGqD-Lm",
        "colab_type": "code",
        "colab": {
          "autoexec": {
            "startup": false,
            "wait_interval": 0
          },
          "base_uri": "https://localhost:8080/",
          "height": 34
        },
        "outputId": "b6b019c7-390f-461f-f4da-33fb70a3f547",
        "executionInfo": {
          "status": "ok",
          "timestamp": 1530810291986,
          "user_tz": -330,
          "elapsed": 980,
          "user": {
            "displayName": "Vedic Partap",
            "photoUrl": "//lh5.googleusercontent.com/-gs70AsKgU3w/AAAAAAAAAAI/AAAAAAAAAAU/1yT4IV1_mds/s50-c-k-no/photo.jpg",
            "userId": "111191292221666082265"
          }
        }
      },
      "cell_type": "code",
      "source": [
        "X_valid.shape,y_valid.shape"
      ],
      "execution_count": 5,
      "outputs": [
        {
          "output_type": "execute_result",
          "data": {
            "text/plain": [
              "((25000,), (25000,))"
            ]
          },
          "metadata": {
            "tags": []
          },
          "execution_count": 5
        }
      ]
    },
    {
      "metadata": {
        "id": "QPv-67EtD-N1",
        "colab_type": "text"
      },
      "cell_type": "markdown",
      "source": [
        "**Preprocess Data**"
      ]
    },
    {
      "metadata": {
        "id": "SWDDkov5D-N4",
        "colab_type": "code",
        "colab": {
          "autoexec": {
            "startup": false,
            "wait_interval": 0
          }
        }
      },
      "cell_type": "code",
      "source": [
        "X_train = pad_sequences(X_train,maxlen=max_review_length,padding=pad_type,value=0)\n",
        "X_valid = pad_sequences(X_valid,maxlen=max_review_length,padding=pad_type,value=0)"
      ],
      "execution_count": 0,
      "outputs": []
    },
    {
      "metadata": {
        "id": "QXMxPJkXD-PJ",
        "colab_type": "text"
      },
      "cell_type": "markdown",
      "source": [
        "**Design Neural Network**"
      ]
    },
    {
      "metadata": {
        "id": "Yt3r671iD-PU",
        "colab_type": "code",
        "colab": {
          "autoexec": {
            "startup": false,
            "wait_interval": 0
          }
        }
      },
      "cell_type": "code",
      "source": [
        "model = Sequential()\n",
        "model.add(Embedding(n_unique_words, n_dim, input_length=max_review_length))\n",
        "model.add(SpatialDropout1D(drop_embed))\n",
        "model.add(GRU(n_gru, dropout=drop_gru))\n",
        "model.add(Dense(1,activation='sigmoid'))"
      ],
      "execution_count": 0,
      "outputs": []
    },
    {
      "metadata": {
        "id": "vGWTRyYpD-Pt",
        "colab_type": "code",
        "colab": {
          "autoexec": {
            "startup": false,
            "wait_interval": 0
          },
          "base_uri": "https://localhost:8080/",
          "height": 278
        },
        "outputId": "52772804-fa76-4c2a-f458-694d503c298a",
        "executionInfo": {
          "status": "ok",
          "timestamp": 1530810296105,
          "user_tz": -330,
          "elapsed": 827,
          "user": {
            "displayName": "Vedic Partap",
            "photoUrl": "//lh5.googleusercontent.com/-gs70AsKgU3w/AAAAAAAAAAI/AAAAAAAAAAU/1yT4IV1_mds/s50-c-k-no/photo.jpg",
            "userId": "111191292221666082265"
          }
        }
      },
      "cell_type": "code",
      "source": [
        "model.summary()"
      ],
      "execution_count": 8,
      "outputs": [
        {
          "output_type": "stream",
          "text": [
            "_________________________________________________________________\n",
            "Layer (type)                 Output Shape              Param #   \n",
            "=================================================================\n",
            "embedding_1 (Embedding)      (None, 100, 64)           640000    \n",
            "_________________________________________________________________\n",
            "spatial_dropout1d_1 (Spatial (None, 100, 64)           0         \n",
            "_________________________________________________________________\n",
            "gru_1 (GRU)                  (None, 256)               246528    \n",
            "_________________________________________________________________\n",
            "dense_1 (Dense)              (None, 1)                 257       \n",
            "=================================================================\n",
            "Total params: 886,785\n",
            "Trainable params: 886,785\n",
            "Non-trainable params: 0\n",
            "_________________________________________________________________\n"
          ],
          "name": "stdout"
        }
      ]
    },
    {
      "metadata": {
        "id": "HEMIcxb-D-Qq",
        "colab_type": "text"
      },
      "cell_type": "markdown",
      "source": [
        "**Confihure Model**"
      ]
    },
    {
      "metadata": {
        "id": "NMFY2IqmD-Qy",
        "colab_type": "code",
        "colab": {
          "autoexec": {
            "startup": false,
            "wait_interval": 0
          }
        }
      },
      "cell_type": "code",
      "source": [
        "model.compile(loss='binary_crossentropy',optimizer='adam',metrics=['accuracy'])"
      ],
      "execution_count": 0,
      "outputs": []
    },
    {
      "metadata": {
        "id": "Im8GhU8pD-RV",
        "colab_type": "code",
        "colab": {
          "autoexec": {
            "startup": false,
            "wait_interval": 0
          }
        }
      },
      "cell_type": "code",
      "source": [
        "modelcheckpoint = ModelCheckpoint(filepath=output_dir+\"/weights.{epoch:02d}.hdf5\")"
      ],
      "execution_count": 0,
      "outputs": []
    },
    {
      "metadata": {
        "id": "NjtndPiYD-R6",
        "colab_type": "code",
        "colab": {
          "autoexec": {
            "startup": false,
            "wait_interval": 0
          }
        }
      },
      "cell_type": "code",
      "source": [
        "# Check if the output dir is present or not\n",
        "if not os.path.exists(output_dir):\n",
        "    os.makedirs(output_dir)"
      ],
      "execution_count": 0,
      "outputs": []
    },
    {
      "metadata": {
        "id": "OfURLbE_D-SA",
        "colab_type": "text"
      },
      "cell_type": "markdown",
      "source": [
        "**Train :) **"
      ]
    },
    {
      "metadata": {
        "id": "4RZiTN34D-SV",
        "colab_type": "code",
        "colab": {
          "autoexec": {
            "startup": false,
            "wait_interval": 0
          },
          "base_uri": "https://localhost:8080/",
          "height": 34
        },
        "outputId": "a80527c7-dec8-430c-d874-0ef728840643",
        "executionInfo": {
          "status": "ok",
          "timestamp": 1530810300594,
          "user_tz": -330,
          "elapsed": 948,
          "user": {
            "displayName": "Vedic Partap",
            "photoUrl": "//lh5.googleusercontent.com/-gs70AsKgU3w/AAAAAAAAAAI/AAAAAAAAAAU/1yT4IV1_mds/s50-c-k-no/photo.jpg",
            "userId": "111191292221666082265"
          }
        }
      },
      "cell_type": "code",
      "source": [
        "X_valid.shape,y_valid.shape"
      ],
      "execution_count": 12,
      "outputs": [
        {
          "output_type": "execute_result",
          "data": {
            "text/plain": [
              "((25000, 100), (25000,))"
            ]
          },
          "metadata": {
            "tags": []
          },
          "execution_count": 12
        }
      ]
    },
    {
      "metadata": {
        "id": "C4IHBOW9D-TD",
        "colab_type": "code",
        "colab": {
          "autoexec": {
            "startup": false,
            "wait_interval": 0
          },
          "base_uri": "https://localhost:8080/",
          "height": 211
        },
        "outputId": "b9783bf0-c1fe-411c-db00-b5b07b982dc3",
        "executionInfo": {
          "status": "ok",
          "timestamp": 1530810553834,
          "user_tz": -330,
          "elapsed": 252990,
          "user": {
            "displayName": "Vedic Partap",
            "photoUrl": "//lh5.googleusercontent.com/-gs70AsKgU3w/AAAAAAAAAAI/AAAAAAAAAAU/1yT4IV1_mds/s50-c-k-no/photo.jpg",
            "userId": "111191292221666082265"
          }
        }
      },
      "cell_type": "code",
      "source": [
        "model.fit(X_train, y_train, batch_size=batch_size, epochs=epochs,verbose=1, validation_data=(X_valid, y_valid), callbacks=[modelcheckpoint])"
      ],
      "execution_count": 13,
      "outputs": [
        {
          "output_type": "stream",
          "text": [
            "Train on 25000 samples, validate on 25000 samples\n",
            "Epoch 1/4\n",
            "25000/25000 [==============================] - 63s 3ms/step - loss: 0.5031 - acc: 0.7416 - val_loss: 0.3704 - val_acc: 0.8410\n",
            "Epoch 2/4\n",
            "25000/25000 [==============================] - 63s 3ms/step - loss: 0.3105 - acc: 0.8702 - val_loss: 0.3605 - val_acc: 0.8403\n",
            "Epoch 3/4\n",
            " 4992/25000 [====>.........................] - ETA: 41s - loss: 0.2339 - acc: 0.9101"
          ],
          "name": "stdout"
        },
        {
          "output_type": "stream",
          "text": [
            "25000/25000 [==============================] - 62s 2ms/step - loss: 0.2508 - acc: 0.9004 - val_loss: 0.3560 - val_acc: 0.8427\n",
            "Epoch 4/4\n",
            "25000/25000 [==============================] - 62s 2ms/step - loss: 0.2143 - acc: 0.9166 - val_loss: 0.3713 - val_acc: 0.8380\n"
          ],
          "name": "stdout"
        },
        {
          "output_type": "execute_result",
          "data": {
            "text/plain": [
              "<keras.callbacks.History at 0x7fbda846e6d8>"
            ]
          },
          "metadata": {
            "tags": []
          },
          "execution_count": 13
        }
      ]
    },
    {
      "metadata": {
        "id": "qBADACrtD-Tl",
        "colab_type": "code",
        "colab": {
          "autoexec": {
            "startup": false,
            "wait_interval": 0
          }
        }
      },
      "cell_type": "code",
      "source": [
        "model.load_weights(output_dir+\"/weights.03.hdf5\")"
      ],
      "execution_count": 0,
      "outputs": []
    },
    {
      "metadata": {
        "id": "DrKkSBm1D-UL",
        "colab_type": "code",
        "colab": {
          "autoexec": {
            "startup": false,
            "wait_interval": 0
          }
        }
      },
      "cell_type": "code",
      "source": [
        "y_hat = model.predict_proba(X_valid)"
      ],
      "execution_count": 0,
      "outputs": []
    },
    {
      "metadata": {
        "id": "1KhzgZp4D-VK",
        "colab_type": "code",
        "colab": {
          "autoexec": {
            "startup": false,
            "wait_interval": 0
          },
          "base_uri": "https://localhost:8080/",
          "height": 297
        },
        "outputId": "6133542b-dfb0-4f60-8fbc-396824feb602",
        "executionInfo": {
          "status": "ok",
          "timestamp": 1530810638912,
          "user_tz": -330,
          "elapsed": 1575,
          "user": {
            "displayName": "Vedic Partap",
            "photoUrl": "//lh5.googleusercontent.com/-gs70AsKgU3w/AAAAAAAAAAI/AAAAAAAAAAU/1yT4IV1_mds/s50-c-k-no/photo.jpg",
            "userId": "111191292221666082265"
          }
        }
      },
      "cell_type": "code",
      "source": [
        "plt.hist(y_hat)\n",
        "_ = plt.axvline(x=0.5, color='orange')\n",
        "plt.tight_layout()"
      ],
      "execution_count": 17,
      "outputs": [
        {
          "output_type": "display_data",
          "data": {
            "image/png": "[encoded data removed]",
            "text/plain": [
              "<matplotlib.figure.Figure at 0x7fbd5f059240>"
            ]
          },
          "metadata": {
            "tags": []
          }
        }
      ]
    },
    {
      "metadata": {
        "id": "J_4V4s_dD-Vx",
        "colab_type": "text"
      },
      "cell_type": "markdown",
      "source": [
        "**Evaluate the model**"
      ]
    },
    {
      "metadata": {
        "id": "sWYKtdvzD-V7",
        "colab_type": "code",
        "colab": {
          "autoexec": {
            "startup": false,
            "wait_interval": 0
          }
        }
      },
      "cell_type": "code",
      "source": [
        "auc = roc_auc_score(y_valid,y_hat)*100"
      ],
      "execution_count": 0,
      "outputs": []
    },
    {
      "metadata": {
        "id": "8D5jInOrD-WT",
        "colab_type": "code",
        "colab": {
          "autoexec": {
            "startup": false,
            "wait_interval": 0
          },
          "base_uri": "https://localhost:8080/",
          "height": 34
        },
        "outputId": "6a255dad-6068-48ad-c311-20fa86c44885",
        "executionInfo": {
          "status": "ok",
          "timestamp": 1530810645173,
          "user_tz": -330,
          "elapsed": 1026,
          "user": {
            "displayName": "Vedic Partap",
            "photoUrl": "//lh5.googleusercontent.com/-gs70AsKgU3w/AAAAAAAAAAI/AAAAAAAAAAU/1yT4IV1_mds/s50-c-k-no/photo.jpg",
            "userId": "111191292221666082265"
          }
        }
      },
      "cell_type": "code",
      "source": [
        "\"{:0.2f}\".format(auc)"
      ],
      "execution_count": 19,
      "outputs": [
        {
          "output_type": "execute_result",
          "data": {
            "text/plain": [
              "'92.19'"
            ]
          },
          "metadata": {
            "tags": []
          },
          "execution_count": 19
        }
      ]
    },
    {
      "metadata": {
        "id": "WxcBH7ycJFdl",
        "colab_type": "code",
        "colab": {
          "autoexec": {
            "startup": false,
            "wait_interval": 0
          }
        }
      },
      "cell_type": "code",
      "source": [
        ""
      ],
      "execution_count": 0,
      "outputs": []
    }
  ]
}