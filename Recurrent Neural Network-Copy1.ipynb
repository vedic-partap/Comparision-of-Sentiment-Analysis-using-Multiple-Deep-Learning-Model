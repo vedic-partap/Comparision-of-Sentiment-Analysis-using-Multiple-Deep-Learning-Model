{
 "cells": [
  {
   "cell_type": "markdown",
   "metadata": {
    "colab_type": "text",
    "id": "YXAKscqBD-Iv"
   },
   "source": [
    "# LSTM  Network #"
   ]
  },
  {
   "cell_type": "markdown",
   "metadata": {
    "colab_type": "text",
    "id": "A_1E7B9ND-I2"
   },
   "source": [
    "In this notebook we will build LSTM Recurrent NN to classify Sentiments using Keras"
   ]
  },
  {
   "cell_type": "code",
   "execution_count": 0,
   "metadata": {
    "colab": {
     "autoexec": {
      "startup": false,
      "wait_interval": 0
     }
    },
    "colab_type": "code",
    "collapsed": true,
    "id": "4g1JedwCD-JM"
   },
   "outputs": [],
   "source": [
    "import keras\n",
    "from keras.datasets import imdb\n",
    "from keras.preprocessing.sequence import pad_sequences\n",
    "from keras.models import Sequential\n",
    "from keras.layers import Dense, Dropout, Embedding, SpatialDropout1D\n",
    "from keras.layers import SimpleRNN # new! \n",
    "from keras.callbacks import ModelCheckpoint\n",
    "import os\n",
    "from sklearn.metrics import roc_auc_score \n",
    "import matplotlib.pyplot as plt \n",
    "%matplotlib inline"
   ]
  },
  {
   "cell_type": "markdown",
   "metadata": {
    "colab_type": "text",
    "id": "FK_FlUzfD-Jt"
   },
   "source": [
    "**Set Hyperparameter**"
   ]
  },
  {
   "cell_type": "code",
   "execution_count": 0,
   "metadata": {
    "colab": {
     "autoexec": {
      "startup": false,
      "wait_interval": 0
     }
    },
    "colab_type": "code",
    "collapsed": true,
    "id": "DQ9GWoDCD-Jw"
   },
   "outputs": [],
   "source": [
    "output_dir = 'data/conv'\n",
    "\n",
    "#Training \n",
    "epochs = 16\n",
    "batch_size = 128\n",
    "\n",
    "#vector-space embedding\n",
    "n_dim = 64\n",
    "n_unique_words = 5000\n",
    "max_review_length = 100\n",
    "pad_type = trunc_type = 'pre'\n",
    "drop_embed = 0.25\n",
    "\n",
    "#rnn architecture \n",
    "n_rnn = 256\n",
    "drop_rnn = 0.2\n"
   ]
  },
  {
   "cell_type": "markdown",
   "metadata": {
    "colab_type": "text",
    "id": "ZjYQiiizD-KM"
   },
   "source": [
    "**Load Data**"
   ]
  },
  {
   "cell_type": "code",
   "execution_count": 0,
   "metadata": {
    "colab": {
     "autoexec": {
      "startup": false,
      "wait_interval": 0
     }
    },
    "colab_type": "code",
    "collapsed": true,
    "id": "DdNDRZnPD-Kd"
   },
   "outputs": [],
   "source": [
    "(X_train,y_train),(X_valid,y_valid) = imdb.load_data(num_words=n_unique_words)"
   ]
  },
  {
   "cell_type": "code",
   "execution_count": 22,
   "metadata": {
    "colab": {
     "autoexec": {
      "startup": false,
      "wait_interval": 0
     },
     "base_uri": "https://localhost:8080/",
     "height": 34
    },
    "colab_type": "code",
    "executionInfo": {
     "elapsed": 1095,
     "status": "ok",
     "timestamp": 1530791669174,
     "user": {
      "displayName": "Vedic Partap",
      "photoUrl": "//lh5.googleusercontent.com/-gs70AsKgU3w/AAAAAAAAAAI/AAAAAAAAAAU/1yT4IV1_mds/s50-c-k-no/photo.jpg",
      "userId": "111191292221666082265"
     },
     "user_tz": -330
    },
    "id": "_fJGaG8cD-LJ",
    "outputId": "204400cf-f67d-498c-8471-c30f0c95ba99"
   },
   "outputs": [
    {
     "data": {
      "text/plain": [
       "((25000,), (25000,))"
      ]
     },
     "execution_count": 22,
     "metadata": {
      "tags": []
     },
     "output_type": "execute_result"
    }
   ],
   "source": [
    "X_train.shape,y_train.shape"
   ]
  },
  {
   "cell_type": "code",
   "execution_count": 23,
   "metadata": {
    "colab": {
     "autoexec": {
      "startup": false,
      "wait_interval": 0
     },
     "base_uri": "https://localhost:8080/",
     "height": 34
    },
    "colab_type": "code",
    "executionInfo": {
     "elapsed": 1085,
     "status": "ok",
     "timestamp": 1530791670527,
     "user": {
      "displayName": "Vedic Partap",
      "photoUrl": "//lh5.googleusercontent.com/-gs70AsKgU3w/AAAAAAAAAAI/AAAAAAAAAAU/1yT4IV1_mds/s50-c-k-no/photo.jpg",
      "userId": "111191292221666082265"
     },
     "user_tz": -330
    },
    "id": "PEcesQGqD-Lm",
    "outputId": "3a3b96eb-e659-426c-df79-7e0e2a9f27f6"
   },
   "outputs": [
    {
     "data": {
      "text/plain": [
       "((25000,), (25000,))"
      ]
     },
     "execution_count": 23,
     "metadata": {
      "tags": []
     },
     "output_type": "execute_result"
    }
   ],
   "source": [
    "X_valid.shape,y_valid.shape"
   ]
  },
  {
   "cell_type": "markdown",
   "metadata": {
    "colab_type": "text",
    "id": "QPv-67EtD-N1"
   },
   "source": [
    "**Preprocess Data**"
   ]
  },
  {
   "cell_type": "code",
   "execution_count": 0,
   "metadata": {
    "colab": {
     "autoexec": {
      "startup": false,
      "wait_interval": 0
     }
    },
    "colab_type": "code",
    "collapsed": true,
    "id": "SWDDkov5D-N4"
   },
   "outputs": [],
   "source": [
    "X_train = pad_sequences(X_train,maxlen=max_review_length,padding=pad_type,value=0)\n",
    "X_valid = pad_sequences(X_valid,maxlen=max_review_length,padding=pad_type,value=0)"
   ]
  },
  {
   "cell_type": "markdown",
   "metadata": {
    "colab_type": "text",
    "id": "QXMxPJkXD-PJ"
   },
   "source": [
    "**Design Neural Network**"
   ]
  },
  {
   "cell_type": "code",
   "execution_count": 0,
   "metadata": {
    "colab": {
     "autoexec": {
      "startup": false,
      "wait_interval": 0
     }
    },
    "colab_type": "code",
    "collapsed": true,
    "id": "Yt3r671iD-PU"
   },
   "outputs": [],
   "source": [
    "model = Sequential()\n",
    "model.add(Embedding(n_unique_words, n_dim, input_length=max_review_length))\n",
    "model.add(SpatialDropout1D(drop_embed))\n",
    "model.add(SimpleRNN(n_rnn, dropout=drop_rnn))\n",
    "model.add(Dense(1,activation='sigmoid'))"
   ]
  },
  {
   "cell_type": "code",
   "execution_count": 26,
   "metadata": {
    "colab": {
     "autoexec": {
      "startup": false,
      "wait_interval": 0
     },
     "base_uri": "https://localhost:8080/",
     "height": 278
    },
    "colab_type": "code",
    "executionInfo": {
     "elapsed": 1196,
     "status": "ok",
     "timestamp": 1530791675143,
     "user": {
      "displayName": "Vedic Partap",
      "photoUrl": "//lh5.googleusercontent.com/-gs70AsKgU3w/AAAAAAAAAAI/AAAAAAAAAAU/1yT4IV1_mds/s50-c-k-no/photo.jpg",
      "userId": "111191292221666082265"
     },
     "user_tz": -330
    },
    "id": "vGWTRyYpD-Pt",
    "outputId": "d9ddffca-02f6-40f3-b990-9a607479fe1b"
   },
   "outputs": [
    {
     "name": "stdout",
     "output_type": "stream",
     "text": [
      "_________________________________________________________________\n",
      "Layer (type)                 Output Shape              Param #   \n",
      "=================================================================\n",
      "embedding_2 (Embedding)      (None, 100, 64)           320000    \n",
      "_________________________________________________________________\n",
      "spatial_dropout1d_2 (Spatial (None, 100, 64)           0         \n",
      "_________________________________________________________________\n",
      "simple_rnn_2 (SimpleRNN)     (None, 256)               82176     \n",
      "_________________________________________________________________\n",
      "dense_2 (Dense)              (None, 1)                 257       \n",
      "=================================================================\n",
      "Total params: 402,433\n",
      "Trainable params: 402,433\n",
      "Non-trainable params: 0\n",
      "_________________________________________________________________\n"
     ]
    }
   ],
   "source": [
    "model.summary()"
   ]
  },
  {
   "cell_type": "markdown",
   "metadata": {
    "colab_type": "text",
    "id": "HEMIcxb-D-Qq"
   },
   "source": [
    "**Confihure Model**"
   ]
  },
  {
   "cell_type": "code",
   "execution_count": 0,
   "metadata": {
    "colab": {
     "autoexec": {
      "startup": false,
      "wait_interval": 0
     }
    },
    "colab_type": "code",
    "collapsed": true,
    "id": "NMFY2IqmD-Qy"
   },
   "outputs": [],
   "source": [
    "model.compile(loss='binary_crossentropy',optimizer='adam',metrics=['accuracy'])"
   ]
  },
  {
   "cell_type": "code",
   "execution_count": 0,
   "metadata": {
    "colab": {
     "autoexec": {
      "startup": false,
      "wait_interval": 0
     }
    },
    "colab_type": "code",
    "collapsed": true,
    "id": "Im8GhU8pD-RV"
   },
   "outputs": [],
   "source": [
    "modelcheckpoint = ModelCheckpoint(filepath=output_dir+\"/weights.{epoch:02d}.hdf5\")"
   ]
  },
  {
   "cell_type": "code",
   "execution_count": 0,
   "metadata": {
    "colab": {
     "autoexec": {
      "startup": false,
      "wait_interval": 0
     }
    },
    "colab_type": "code",
    "collapsed": true,
    "id": "NjtndPiYD-R6"
   },
   "outputs": [],
   "source": [
    "# Check if the output dir is present or not\n",
    "if not os.path.exists(output_dir):\n",
    "    os.makedirs(output_dir)"
   ]
  },
  {
   "cell_type": "markdown",
   "metadata": {
    "colab_type": "text",
    "id": "OfURLbE_D-SA"
   },
   "source": [
    "**Train :) **"
   ]
  },
  {
   "cell_type": "code",
   "execution_count": 30,
   "metadata": {
    "colab": {
     "autoexec": {
      "startup": false,
      "wait_interval": 0
     },
     "base_uri": "https://localhost:8080/",
     "height": 34
    },
    "colab_type": "code",
    "executionInfo": {
     "elapsed": 911,
     "status": "ok",
     "timestamp": 1530791681101,
     "user": {
      "displayName": "Vedic Partap",
      "photoUrl": "//lh5.googleusercontent.com/-gs70AsKgU3w/AAAAAAAAAAI/AAAAAAAAAAU/1yT4IV1_mds/s50-c-k-no/photo.jpg",
      "userId": "111191292221666082265"
     },
     "user_tz": -330
    },
    "id": "4RZiTN34D-SV",
    "outputId": "b4f98008-f7d3-4cf7-9d20-b04f213032f4"
   },
   "outputs": [
    {
     "data": {
      "text/plain": [
       "((25000, 100), (25000,))"
      ]
     },
     "execution_count": 30,
     "metadata": {
      "tags": []
     },
     "output_type": "execute_result"
    }
   ],
   "source": [
    "X_valid.shape,y_valid.shape"
   ]
  },
  {
   "cell_type": "code",
   "execution_count": 31,
   "metadata": {
    "colab": {
     "autoexec": {
      "startup": false,
      "wait_interval": 0
     },
     "base_uri": "https://localhost:8080/",
     "height": 627
    },
    "colab_type": "code",
    "executionInfo": {
     "elapsed": 294546,
     "status": "ok",
     "timestamp": 1530791975864,
     "user": {
      "displayName": "Vedic Partap",
      "photoUrl": "//lh5.googleusercontent.com/-gs70AsKgU3w/AAAAAAAAAAI/AAAAAAAAAAU/1yT4IV1_mds/s50-c-k-no/photo.jpg",
      "userId": "111191292221666082265"
     },
     "user_tz": -330
    },
    "id": "C4IHBOW9D-TD",
    "outputId": "019cd7e9-c365-43eb-8705-d29e031e1a2e"
   },
   "outputs": [
    {
     "name": "stdout",
     "output_type": "stream",
     "text": [
      "Train on 25000 samples, validate on 25000 samples\n",
      "Epoch 1/16\n",
      "25000/25000 [==============================] - 19s 749us/step - loss: 0.7050 - acc: 0.5079 - val_loss: 0.7222 - val_acc: 0.5012\n",
      "Epoch 2/16\n",
      "25000/25000 [==============================] - 18s 730us/step - loss: 0.6973 - acc: 0.5165 - val_loss: 0.6893 - val_acc: 0.5241\n",
      "Epoch 3/16\n",
      " 4736/25000 [====>.........................] - ETA: 12s - loss: 0.6968 - acc: 0.517925000/25000 [==============================] - 18s 729us/step - loss: 0.6909 - acc: 0.5362 - val_loss: 0.6848 - val_acc: 0.5394\n",
      "Epoch 4/16\n",
      "25000/25000 [==============================] - 18s 727us/step - loss: 0.6693 - acc: 0.5794 - val_loss: 0.6577 - val_acc: 0.5899\n",
      "Epoch 5/16\n",
      "15232/25000 [=================>............] - ETA: 5s - loss: 0.6335 - acc: 0.640225000/25000 [==============================] - 18s 728us/step - loss: 0.6221 - acc: 0.6518 - val_loss: 0.5939 - val_acc: 0.6846\n",
      "Epoch 6/16\n",
      "25000/25000 [==============================] - 18s 731us/step - loss: 0.5428 - acc: 0.7286 - val_loss: 0.5922 - val_acc: 0.6832\n",
      "Epoch 7/16\n",
      "17536/25000 [====================>.........] - ETA: 4s - loss: 0.5379 - acc: 0.728625000/25000 [==============================] - 18s 737us/step - loss: 0.5408 - acc: 0.7280 - val_loss: 0.5540 - val_acc: 0.7243\n",
      "Epoch 8/16\n",
      "25000/25000 [==============================] - 18s 728us/step - loss: 0.4690 - acc: 0.7862 - val_loss: 0.4653 - val_acc: 0.7920\n",
      "Epoch 9/16\n",
      "18176/25000 [====================>.........] - ETA: 4s - loss: 0.4328 - acc: 0.808125000/25000 [==============================] - 18s 734us/step - loss: 0.4357 - acc: 0.8071 - val_loss: 0.4769 - val_acc: 0.7814\n",
      "Epoch 10/16\n",
      "25000/25000 [==============================] - 18s 727us/step - loss: 0.5351 - acc: 0.7292 - val_loss: 0.5490 - val_acc: 0.7287\n",
      "Epoch 11/16\n",
      "18048/25000 [====================>.........] - ETA: 4s - loss: 0.5200 - acc: 0.755325000/25000 [==============================] - 18s 731us/step - loss: 0.5182 - acc: 0.7524 - val_loss: 0.5541 - val_acc: 0.7128\n",
      "Epoch 12/16\n",
      "25000/25000 [==============================] - 18s 728us/step - loss: 0.5638 - acc: 0.7040 - val_loss: 0.6008 - val_acc: 0.6772\n",
      "Epoch 13/16\n",
      "18048/25000 [====================>.........] - ETA: 4s - loss: 0.5187 - acc: 0.746925000/25000 [==============================] - 18s 726us/step - loss: 0.5229 - acc: 0.7436 - val_loss: 0.5980 - val_acc: 0.6738\n",
      "Epoch 14/16\n",
      "25000/25000 [==============================] - 18s 731us/step - loss: 0.5584 - acc: 0.7093 - val_loss: 0.5965 - val_acc: 0.6879\n",
      "Epoch 15/16\n",
      "18048/25000 [====================>.........] - ETA: 4s - loss: 0.5254 - acc: 0.745025000/25000 [==============================] - 18s 728us/step - loss: 0.5178 - acc: 0.7552 - val_loss: 0.5960 - val_acc: 0.6756\n",
      "Epoch 16/16\n",
      "25000/25000 [==============================] - 18s 727us/step - loss: 0.5405 - acc: 0.7294 - val_loss: 0.6385 - val_acc: 0.6091\n"
     ]
    },
    {
     "data": {
      "text/plain": [
       "<keras.callbacks.History at 0x7fa2cbf84da0>"
      ]
     },
     "execution_count": 31,
     "metadata": {
      "tags": []
     },
     "output_type": "execute_result"
    }
   ],
   "source": [
    "model.fit(X_train, y_train, batch_size=batch_size, epochs=epochs,verbose=1, validation_data=(X_valid, y_valid), callbacks=[modelcheckpoint])"
   ]
  },
  {
   "cell_type": "code",
   "execution_count": 0,
   "metadata": {
    "colab": {
     "autoexec": {
      "startup": false,
      "wait_interval": 0
     }
    },
    "colab_type": "code",
    "collapsed": true,
    "id": "qBADACrtD-Tl"
   },
   "outputs": [],
   "source": [
    "model.load_weights(output_dir+\"/weights.08.hdf5\")"
   ]
  },
  {
   "cell_type": "code",
   "execution_count": 0,
   "metadata": {
    "colab": {
     "autoexec": {
      "startup": false,
      "wait_interval": 0
     }
    },
    "colab_type": "code",
    "collapsed": true,
    "id": "DrKkSBm1D-UL"
   },
   "outputs": [],
   "source": [
    "y_hat = model.predict_proba(X_valid)"
   ]
  },
  {
   "cell_type": "code",
   "execution_count": 39,
   "metadata": {
    "colab": {
     "autoexec": {
      "startup": false,
      "wait_interval": 0
     },
     "base_uri": "https://localhost:8080/",
     "height": 297
    },
    "colab_type": "code",
    "executionInfo": {
     "elapsed": 1270,
     "status": "ok",
     "timestamp": 1530792190099,
     "user": {
      "displayName": "Vedic Partap",
      "photoUrl": "//lh5.googleusercontent.com/-gs70AsKgU3w/AAAAAAAAAAI/AAAAAAAAAAU/1yT4IV1_mds/s50-c-k-no/photo.jpg",
      "userId": "111191292221666082265"
     },
     "user_tz": -330
    },
    "id": "1KhzgZp4D-VK",
    "outputId": "e40aa105-56e9-4aaf-f979-4b939c387aa1"
   },
   "outputs": [
    {
     "data": {
      "image/png": "[encoded data removed]",
      "text/plain": [
       "<matplotlib.figure.Figure at 0x7fa2c7f53d68>"
      ]
     },
     "metadata": {
      "tags": []
     },
     "output_type": "display_data"
    }
   ],
   "source": [
    "plt.hist(y_hat)\n",
    "_ = plt.axvline(x=0.5, color='orange')\n",
    "plt.tight_layout()"
   ]
  },
  {
   "cell_type": "markdown",
   "metadata": {
    "colab_type": "text",
    "id": "J_4V4s_dD-Vx"
   },
   "source": [
    "**Evaluate the model**"
   ]
  },
  {
   "cell_type": "code",
   "execution_count": 0,
   "metadata": {
    "colab": {
     "autoexec": {
      "startup": false,
      "wait_interval": 0
     }
    },
    "colab_type": "code",
    "collapsed": true,
    "id": "sWYKtdvzD-V7"
   },
   "outputs": [],
   "source": [
    "auc = roc_auc_score(y_valid,y_hat)*100"
   ]
  },
  {
   "cell_type": "code",
   "execution_count": 41,
   "metadata": {
    "colab": {
     "autoexec": {
      "startup": false,
      "wait_interval": 0
     },
     "base_uri": "https://localhost:8080/",
     "height": 34
    },
    "colab_type": "code",
    "executionInfo": {
     "elapsed": 1295,
     "status": "ok",
     "timestamp": 1530792195768,
     "user": {
      "displayName": "Vedic Partap",
      "photoUrl": "//lh5.googleusercontent.com/-gs70AsKgU3w/AAAAAAAAAAI/AAAAAAAAAAU/1yT4IV1_mds/s50-c-k-no/photo.jpg",
      "userId": "111191292221666082265"
     },
     "user_tz": -330
    },
    "id": "8D5jInOrD-WT",
    "outputId": "c5c647f1-7bc0-4dfa-806f-93a33174012c"
   },
   "outputs": [
    {
     "data": {
      "text/plain": [
       "'86.27'"
      ]
     },
     "execution_count": 41,
     "metadata": {
      "tags": []
     },
     "output_type": "execute_result"
    }
   ],
   "source": [
    "\"{:0.2f}\".format(auc)"
   ]
  },
  {
   "cell_type": "code",
   "execution_count": 0,
   "metadata": {
    "colab": {
     "autoexec": {
      "startup": false,
      "wait_interval": 0
     }
    },
    "colab_type": "code",
    "collapsed": true,
    "id": "WxcBH7ycJFdl"
   },
   "outputs": [],
   "source": []
  }
 ],
 "metadata": {
  "accelerator": "GPU",
  "colab": {
   "default_view": {},
   "name": "Recurrent Neural Network.ipynb",
   "provenance": [],
   "version": "0.3.2",
   "views": {}
  },
  "kernelspec": {
   "display_name": "Python 3",
   "language": "python",
   "name": "python3"
  },
  "language_info": {
   "codemirror_mode": {
    "name": "ipython",
    "version": 3
   },
   "file_extension": ".py",
   "mimetype": "text/x-python",
   "name": "python",
   "nbconvert_exporter": "python",
   "pygments_lexer": "ipython3",
   "version": "3.6.3"
  }
 },
 "nbformat": 4,
 "nbformat_minor": 1
}
