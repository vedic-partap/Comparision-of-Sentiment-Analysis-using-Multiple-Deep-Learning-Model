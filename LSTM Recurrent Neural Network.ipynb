{
  "nbformat": 4,
  "nbformat_minor": 0,
  "metadata": {
    "colab": {
      "name": "LSTM Recurrent Neural Network.ipynb",
      "version": "0.3.2",
      "views": {},
      "default_view": {},
      "provenance": []
    },
    "kernelspec": {
      "display_name": "Python 3",
      "language": "python",
      "name": "python3"
    },
    "accelerator": "GPU"
  },
  "cells": [
    {
      "metadata": {
        "id": "YXAKscqBD-Iv",
        "colab_type": "text"
      },
      "cell_type": "markdown",
      "source": [
        "# LSTM  Network #"
      ]
    },
    {
      "metadata": {
        "id": "A_1E7B9ND-I2",
        "colab_type": "text"
      },
      "cell_type": "markdown",
      "source": [
        "In this notebook we will build LSTM Recurrent NN to classify Sentiments using Keras"
      ]
    },
    {
      "metadata": {
        "id": "4g1JedwCD-JM",
        "colab_type": "code",
        "colab": {
          "autoexec": {
            "startup": false,
            "wait_interval": 0
          },
          "base_uri": "https://localhost:8080/",
          "height": 34
        },
        "outputId": "9e3be15b-9df2-4a90-9ea5-21794f3e3f79",
        "executionInfo": {
          "status": "ok",
          "timestamp": 1530809438462,
          "user_tz": -330,
          "elapsed": 10695,
          "user": {
            "displayName": "Vedic Partap",
            "photoUrl": "//lh5.googleusercontent.com/-gs70AsKgU3w/AAAAAAAAAAI/AAAAAAAAAAU/1yT4IV1_mds/s50-c-k-no/photo.jpg",
            "userId": "111191292221666082265"
          }
        }
      },
      "cell_type": "code",
      "source": [
        "import keras\n",
        "from keras.datasets import imdb\n",
        "from keras.preprocessing.sequence import pad_sequences\n",
        "from keras.models import Sequential\n",
        "from keras.layers import Dense, Dropout, Embedding, SpatialDropout1D\n",
        "from keras.layers import LSTM\n",
        "from keras.callbacks import ModelCheckpoint\n",
        "import os\n",
        "from sklearn.metrics import roc_auc_score \n",
        "import matplotlib.pyplot as plt \n",
        "%matplotlib inline"
      ],
      "execution_count": 1,
      "outputs": [
        {
          "output_type": "stream",
          "text": [
            "Using TensorFlow backend.\n"
          ],
          "name": "stderr"
        }
      ]
    },
    {
      "metadata": {
        "id": "FK_FlUzfD-Jt",
        "colab_type": "text"
      },
      "cell_type": "markdown",
      "source": [
        "**Set Hyperparameter**"
      ]
    },
    {
      "metadata": {
        "id": "DQ9GWoDCD-Jw",
        "colab_type": "code",
        "colab": {
          "autoexec": {
            "startup": false,
            "wait_interval": 0
          }
        }
      },
      "cell_type": "code",
      "source": [
        "output_dir = 'data/lstm'\n",
        "\n",
        "#Training \n",
        "epochs = 4\n",
        "batch_size = 128\n",
        "\n",
        "#vector-space embedding\n",
        "n_dim = 64\n",
        "n_unique_words = 5000\n",
        "max_review_length = 100\n",
        "pad_type = trunc_type = 'pre'\n",
        "drop_embed = 0.25\n",
        "\n",
        "#lstm architecture \n",
        "n_lstm = 256\n",
        "drop_lstm = 0.2\n"
      ],
      "execution_count": 0,
      "outputs": []
    },
    {
      "metadata": {
        "id": "ZjYQiiizD-KM",
        "colab_type": "text"
      },
      "cell_type": "markdown",
      "source": [
        "**Load Data**"
      ]
    },
    {
      "metadata": {
        "id": "DdNDRZnPD-Kd",
        "colab_type": "code",
        "colab": {
          "autoexec": {
            "startup": false,
            "wait_interval": 0
          },
          "base_uri": "https://localhost:8080/",
          "height": 52
        },
        "outputId": "ee8c661e-f4f0-427d-b144-95e78b38251e",
        "executionInfo": {
          "status": "ok",
          "timestamp": 1530809450411,
          "user_tz": -330,
          "elapsed": 10341,
          "user": {
            "displayName": "Vedic Partap",
            "photoUrl": "//lh5.googleusercontent.com/-gs70AsKgU3w/AAAAAAAAAAI/AAAAAAAAAAU/1yT4IV1_mds/s50-c-k-no/photo.jpg",
            "userId": "111191292221666082265"
          }
        }
      },
      "cell_type": "code",
      "source": [
        "(X_train,y_train),(X_valid,y_valid) = imdb.load_data(num_words=n_unique_words)"
      ],
      "execution_count": 3,
      "outputs": [
        {
          "output_type": "stream",
          "text": [
            "Downloading data from https://s3.amazonaws.com/text-datasets/imdb.npz\n",
            "17465344/17464789 [==============================] - 3s 0us/step\n"
          ],
          "name": "stdout"
        }
      ]
    },
    {
      "metadata": {
        "id": "_fJGaG8cD-LJ",
        "colab_type": "code",
        "colab": {
          "autoexec": {
            "startup": false,
            "wait_interval": 0
          },
          "base_uri": "https://localhost:8080/",
          "height": 34
        },
        "outputId": "b91a9bae-946c-41e4-c4e9-d844ee31afa1",
        "executionInfo": {
          "status": "ok",
          "timestamp": 1530809451549,
          "user_tz": -330,
          "elapsed": 1009,
          "user": {
            "displayName": "Vedic Partap",
            "photoUrl": "//lh5.googleusercontent.com/-gs70AsKgU3w/AAAAAAAAAAI/AAAAAAAAAAU/1yT4IV1_mds/s50-c-k-no/photo.jpg",
            "userId": "111191292221666082265"
          }
        }
      },
      "cell_type": "code",
      "source": [
        "X_train.shape,y_train.shape"
      ],
      "execution_count": 4,
      "outputs": [
        {
          "output_type": "execute_result",
          "data": {
            "text/plain": [
              "((25000,), (25000,))"
            ]
          },
          "metadata": {
            "tags": []
          },
          "execution_count": 4
        }
      ]
    },
    {
      "metadata": {
        "id": "PEcesQGqD-Lm",
        "colab_type": "code",
        "colab": {
          "autoexec": {
            "startup": false,
            "wait_interval": 0
          },
          "base_uri": "https://localhost:8080/",
          "height": 34
        },
        "outputId": "2691f3a9-8b21-4dc1-901a-af4ca1ae8407",
        "executionInfo": {
          "status": "ok",
          "timestamp": 1530809452896,
          "user_tz": -330,
          "elapsed": 1074,
          "user": {
            "displayName": "Vedic Partap",
            "photoUrl": "//lh5.googleusercontent.com/-gs70AsKgU3w/AAAAAAAAAAI/AAAAAAAAAAU/1yT4IV1_mds/s50-c-k-no/photo.jpg",
            "userId": "111191292221666082265"
          }
        }
      },
      "cell_type": "code",
      "source": [
        "X_valid.shape,y_valid.shape"
      ],
      "execution_count": 5,
      "outputs": [
        {
          "output_type": "execute_result",
          "data": {
            "text/plain": [
              "((25000,), (25000,))"
            ]
          },
          "metadata": {
            "tags": []
          },
          "execution_count": 5
        }
      ]
    },
    {
      "metadata": {
        "id": "QPv-67EtD-N1",
        "colab_type": "text"
      },
      "cell_type": "markdown",
      "source": [
        "**Preprocess Data**"
      ]
    },
    {
      "metadata": {
        "id": "SWDDkov5D-N4",
        "colab_type": "code",
        "colab": {
          "autoexec": {
            "startup": false,
            "wait_interval": 0
          }
        }
      },
      "cell_type": "code",
      "source": [
        "X_train = pad_sequences(X_train,maxlen=max_review_length,padding=pad_type,value=0)\n",
        "X_valid = pad_sequences(X_valid,maxlen=max_review_length,padding=pad_type,value=0)"
      ],
      "execution_count": 0,
      "outputs": []
    },
    {
      "metadata": {
        "id": "QXMxPJkXD-PJ",
        "colab_type": "text"
      },
      "cell_type": "markdown",
      "source": [
        "**Design Neural Network**"
      ]
    },
    {
      "metadata": {
        "id": "Yt3r671iD-PU",
        "colab_type": "code",
        "colab": {
          "autoexec": {
            "startup": false,
            "wait_interval": 0
          }
        }
      },
      "cell_type": "code",
      "source": [
        "model = Sequential()\n",
        "model.add(Embedding(n_unique_words, n_dim, input_length=max_review_length))\n",
        "model.add(SpatialDropout1D(drop_embed))\n",
        "model.add(LSTM(n_lstm, dropout=drop_lstm))\n",
        "model.add(Dense(1,activation='sigmoid'))"
      ],
      "execution_count": 0,
      "outputs": []
    },
    {
      "metadata": {
        "id": "vGWTRyYpD-Pt",
        "colab_type": "code",
        "colab": {
          "autoexec": {
            "startup": false,
            "wait_interval": 0
          },
          "base_uri": "https://localhost:8080/",
          "height": 278
        },
        "outputId": "13983b7c-5476-461f-fbcd-589fc2ce9462",
        "executionInfo": {
          "status": "ok",
          "timestamp": 1530809459024,
          "user_tz": -330,
          "elapsed": 1609,
          "user": {
            "displayName": "Vedic Partap",
            "photoUrl": "//lh5.googleusercontent.com/-gs70AsKgU3w/AAAAAAAAAAI/AAAAAAAAAAU/1yT4IV1_mds/s50-c-k-no/photo.jpg",
            "userId": "111191292221666082265"
          }
        }
      },
      "cell_type": "code",
      "source": [
        "model.summary()"
      ],
      "execution_count": 8,
      "outputs": [
        {
          "output_type": "stream",
          "text": [
            "_________________________________________________________________\n",
            "Layer (type)                 Output Shape              Param #   \n",
            "=================================================================\n",
            "embedding_1 (Embedding)      (None, 100, 64)           320000    \n",
            "_________________________________________________________________\n",
            "spatial_dropout1d_1 (Spatial (None, 100, 64)           0         \n",
            "_________________________________________________________________\n",
            "lstm_1 (LSTM)                (None, 256)               328704    \n",
            "_________________________________________________________________\n",
            "dense_1 (Dense)              (None, 1)                 257       \n",
            "=================================================================\n",
            "Total params: 648,961\n",
            "Trainable params: 648,961\n",
            "Non-trainable params: 0\n",
            "_________________________________________________________________\n"
          ],
          "name": "stdout"
        }
      ]
    },
    {
      "metadata": {
        "id": "HEMIcxb-D-Qq",
        "colab_type": "text"
      },
      "cell_type": "markdown",
      "source": [
        "**Configure Model**"
      ]
    },
    {
      "metadata": {
        "id": "NMFY2IqmD-Qy",
        "colab_type": "code",
        "colab": {
          "autoexec": {
            "startup": false,
            "wait_interval": 0
          }
        }
      },
      "cell_type": "code",
      "source": [
        "model.compile(loss='binary_crossentropy',optimizer='adam',metrics=['accuracy'])"
      ],
      "execution_count": 0,
      "outputs": []
    },
    {
      "metadata": {
        "id": "Im8GhU8pD-RV",
        "colab_type": "code",
        "colab": {
          "autoexec": {
            "startup": false,
            "wait_interval": 0
          }
        }
      },
      "cell_type": "code",
      "source": [
        "modelcheckpoint = ModelCheckpoint(filepath=output_dir+\"/weights.{epoch:02d}.hdf5\")"
      ],
      "execution_count": 0,
      "outputs": []
    },
    {
      "metadata": {
        "id": "NjtndPiYD-R6",
        "colab_type": "code",
        "colab": {
          "autoexec": {
            "startup": false,
            "wait_interval": 0
          }
        }
      },
      "cell_type": "code",
      "source": [
        "# Check if the output dir is present or not\n",
        "if not os.path.exists(output_dir):\n",
        "    os.makedirs(output_dir)"
      ],
      "execution_count": 0,
      "outputs": []
    },
    {
      "metadata": {
        "id": "OfURLbE_D-SA",
        "colab_type": "text"
      },
      "cell_type": "markdown",
      "source": [
        "**Train :) **"
      ]
    },
    {
      "metadata": {
        "id": "4RZiTN34D-SV",
        "colab_type": "code",
        "colab": {
          "autoexec": {
            "startup": false,
            "wait_interval": 0
          },
          "base_uri": "https://localhost:8080/",
          "height": 34
        },
        "outputId": "13ef6b8e-92ec-4081-9026-5c565aeafcc5",
        "executionInfo": {
          "status": "ok",
          "timestamp": 1530809464613,
          "user_tz": -330,
          "elapsed": 946,
          "user": {
            "displayName": "Vedic Partap",
            "photoUrl": "//lh5.googleusercontent.com/-gs70AsKgU3w/AAAAAAAAAAI/AAAAAAAAAAU/1yT4IV1_mds/s50-c-k-no/photo.jpg",
            "userId": "111191292221666082265"
          }
        }
      },
      "cell_type": "code",
      "source": [
        "X_valid.shape,y_valid.shape"
      ],
      "execution_count": 12,
      "outputs": [
        {
          "output_type": "execute_result",
          "data": {
            "text/plain": [
              "((25000, 100), (25000,))"
            ]
          },
          "metadata": {
            "tags": []
          },
          "execution_count": 12
        }
      ]
    },
    {
      "metadata": {
        "id": "C4IHBOW9D-TD",
        "colab_type": "code",
        "colab": {
          "autoexec": {
            "startup": false,
            "wait_interval": 0
          },
          "base_uri": "https://localhost:8080/",
          "height": 211
        },
        "outputId": "266d6142-40c8-4091-bc5d-9d5762378225",
        "executionInfo": {
          "status": "ok",
          "timestamp": 1530809734496,
          "user_tz": -330,
          "elapsed": 269709,
          "user": {
            "displayName": "Vedic Partap",
            "photoUrl": "//lh5.googleusercontent.com/-gs70AsKgU3w/AAAAAAAAAAI/AAAAAAAAAAU/1yT4IV1_mds/s50-c-k-no/photo.jpg",
            "userId": "111191292221666082265"
          }
        }
      },
      "cell_type": "code",
      "source": [
        "model.fit(X_train, y_train, batch_size=batch_size, epochs=epochs,verbose=1, validation_data=(X_valid, y_valid), callbacks=[modelcheckpoint])"
      ],
      "execution_count": 13,
      "outputs": [
        {
          "output_type": "stream",
          "text": [
            "Train on 25000 samples, validate on 25000 samples\n",
            "Epoch 1/4\n",
            "25000/25000 [==============================] - 68s 3ms/step - loss: 0.5146 - acc: 0.7312 - val_loss: 0.3517 - val_acc: 0.8460\n",
            "Epoch 2/4\n",
            "25000/25000 [==============================] - 66s 3ms/step - loss: 0.3306 - acc: 0.8590 - val_loss: 0.3444 - val_acc: 0.8507\n",
            "Epoch 3/4\n",
            " 4992/25000 [====>.........................] - ETA: 42s - loss: 0.2678 - acc: 0.8934"
          ],
          "name": "stdout"
        },
        {
          "output_type": "stream",
          "text": [
            "25000/25000 [==============================] - 67s 3ms/step - loss: 0.2816 - acc: 0.8858 - val_loss: 0.3447 - val_acc: 0.8487\n",
            "Epoch 4/4\n",
            "25000/25000 [==============================] - 66s 3ms/step - loss: 0.2535 - acc: 0.8992 - val_loss: 0.3493 - val_acc: 0.8480\n"
          ],
          "name": "stdout"
        },
        {
          "output_type": "execute_result",
          "data": {
            "text/plain": [
              "<keras.callbacks.History at 0x7f9bdb82b908>"
            ]
          },
          "metadata": {
            "tags": []
          },
          "execution_count": 13
        }
      ]
    },
    {
      "metadata": {
        "id": "qBADACrtD-Tl",
        "colab_type": "code",
        "colab": {
          "autoexec": {
            "startup": false,
            "wait_interval": 0
          }
        }
      },
      "cell_type": "code",
      "source": [
        "model.load_weights(output_dir+\"/weights.02.hdf5\")"
      ],
      "execution_count": 0,
      "outputs": []
    },
    {
      "metadata": {
        "id": "DrKkSBm1D-UL",
        "colab_type": "code",
        "colab": {
          "autoexec": {
            "startup": false,
            "wait_interval": 0
          }
        }
      },
      "cell_type": "code",
      "source": [
        "y_hat = model.predict_proba(X_valid)"
      ],
      "execution_count": 0,
      "outputs": []
    },
    {
      "metadata": {
        "id": "1KhzgZp4D-VK",
        "colab_type": "code",
        "colab": {
          "autoexec": {
            "startup": false,
            "wait_interval": 0
          },
          "base_uri": "https://localhost:8080/",
          "height": 297
        },
        "outputId": "30914a0f-0179-4339-c315-13ab3d7065d5",
        "executionInfo": {
          "status": "ok",
          "timestamp": 1530810226800,
          "user_tz": -330,
          "elapsed": 923,
          "user": {
            "displayName": "Vedic Partap",
            "photoUrl": "//lh5.googleusercontent.com/-gs70AsKgU3w/AAAAAAAAAAI/AAAAAAAAAAU/1yT4IV1_mds/s50-c-k-no/photo.jpg",
            "userId": "111191292221666082265"
          }
        }
      },
      "cell_type": "code",
      "source": [
        "plt.hist(y_hat)\n",
        "_ = plt.axvline(x=0.5, color='orange')\n",
        "plt.tight_layout()"
      ],
      "execution_count": 17,
      "outputs": [
        {
          "output_type": "display_data",
          "data": {
            "image/png": "[encoded data removed]",
            "text/plain": [
              "<matplotlib.figure.Figure at 0x7f9bd6ad5358>"
            ]
          },
          "metadata": {
            "tags": []
          }
        }
      ]
    },
    {
      "metadata": {
        "id": "J_4V4s_dD-Vx",
        "colab_type": "text"
      },
      "cell_type": "markdown",
      "source": [
        "**Evaluate the model**"
      ]
    },
    {
      "metadata": {
        "id": "sWYKtdvzD-V7",
        "colab_type": "code",
        "colab": {
          "autoexec": {
            "startup": false,
            "wait_interval": 0
          }
        }
      },
      "cell_type": "code",
      "source": [
        "auc = roc_auc_score(y_valid,y_hat)*100"
      ],
      "execution_count": 0,
      "outputs": []
    },
    {
      "metadata": {
        "id": "8D5jInOrD-WT",
        "colab_type": "code",
        "colab": {
          "autoexec": {
            "startup": false,
            "wait_interval": 0
          },
          "base_uri": "https://localhost:8080/",
          "height": 34
        },
        "outputId": "14236011-bf17-41b8-a150-b1fffb7e5d9f",
        "executionInfo": {
          "status": "ok",
          "timestamp": 1530810240574,
          "user_tz": -330,
          "elapsed": 1023,
          "user": {
            "displayName": "Vedic Partap",
            "photoUrl": "//lh5.googleusercontent.com/-gs70AsKgU3w/AAAAAAAAAAI/AAAAAAAAAAU/1yT4IV1_mds/s50-c-k-no/photo.jpg",
            "userId": "111191292221666082265"
          }
        }
      },
      "cell_type": "code",
      "source": [
        "\"{:0.2f}\".format(auc)"
      ],
      "execution_count": 19,
      "outputs": [
        {
          "output_type": "execute_result",
          "data": {
            "text/plain": [
              "'92.95'"
            ]
          },
          "metadata": {
            "tags": []
          },
          "execution_count": 19
        }
      ]
    },
    {
      "metadata": {
        "id": "WxcBH7ycJFdl",
        "colab_type": "code",
        "colab": {
          "autoexec": {
            "startup": false,
            "wait_interval": 0
          }
        }
      },
      "cell_type": "code",
      "source": [
        ""
      ],
      "execution_count": 0,
      "outputs": []
    }
  ]
}