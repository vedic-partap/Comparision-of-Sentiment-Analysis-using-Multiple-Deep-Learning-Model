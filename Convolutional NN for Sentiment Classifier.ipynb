{
  "nbformat": 4,
  "nbformat_minor": 0,
  "metadata": {
    "colab": {
      "name": "Dense NN for Sentiment Classifier -Copy1.ipynb",
      "version": "0.3.2",
      "views": {},
      "default_view": {},
      "provenance": []
    },
    "kernelspec": {
      "display_name": "Python 3",
      "language": "python",
      "name": "python3"
    },
    "accelerator": "GPU"
  },
  "cells": [
    {
      "metadata": {
        "id": "YXAKscqBD-Iv",
        "colab_type": "text"
      },
      "cell_type": "markdown",
      "source": [
        "# Convolutional Sentiment Classifier #"
      ]
    },
    {
      "metadata": {
        "id": "A_1E7B9ND-I2",
        "colab_type": "text"
      },
      "cell_type": "markdown",
      "source": [
        "In this notebook we will build Convolutional NN to classify Sentiments using Keras"
      ]
    },
    {
      "metadata": {
        "id": "4g1JedwCD-JM",
        "colab_type": "code",
        "colab": {
          "autoexec": {
            "startup": false,
            "wait_interval": 0
          },
          "base_uri": "https://localhost:8080/",
          "height": 34
        },
        "outputId": "183c653f-5cf3-4e6d-f405-90d8e1d17c36",
        "executionInfo": {
          "status": "ok",
          "timestamp": 1530790036534,
          "user_tz": -330,
          "elapsed": 2029,
          "user": {
            "displayName": "Vedic Partap",
            "photoUrl": "//lh5.googleusercontent.com/-stb1YW11b9c/AAAAAAAAAAI/AAAAAAAAAJM/TmxIMRH4eg0/s50-c-k-no/photo.jpg",
            "userId": "115099165204027443854"
          }
        }
      },
      "cell_type": "code",
      "source": [
        "import keras\n",
        "from keras.datasets import imdb\n",
        "from keras.preprocessing.sequence import pad_sequences\n",
        "import pandas as pd \n",
        "from keras.layers import Dense, Flatten, Dropout\n",
        "from keras.layers import Conv1D, GlobalMaxPooling1D, MaxPool1D, SpatialDropout1D\n",
        "from keras.layers import Embedding\n",
        "from keras.models import Sequential\n",
        "from keras.callbacks import ModelCheckpoint\n",
        "\n",
        "import os \n",
        "import numpy as np\n",
        "from sklearn.metrics import roc_auc_score, roc_curve\n",
        "import matplotlib.pyplot as plt\n",
        "%matplotlib inline "
      ],
      "execution_count": 2,
      "outputs": [
        {
          "output_type": "stream",
          "text": [
            "Using TensorFlow backend.\n"
          ],
          "name": "stderr"
        }
      ]
    },
    {
      "metadata": {
        "id": "FK_FlUzfD-Jt",
        "colab_type": "text"
      },
      "cell_type": "markdown",
      "source": [
        "**Set Hyperparameter**"
      ]
    },
    {
      "metadata": {
        "id": "DQ9GWoDCD-Jw",
        "colab_type": "code",
        "colab": {
          "autoexec": {
            "startup": false,
            "wait_interval": 0
          }
        }
      },
      "cell_type": "code",
      "source": [
        "output_dir = 'data/conv'\n",
        "\n",
        "#Training \n",
        "epochs = 4\n",
        "batch_size = 128\n",
        "\n",
        "#vector-space embedding\n",
        "n_dim = 64\n",
        "n_unique_words = 5000\n",
        "max_review_length = 300\n",
        "pad_type = trunc_type = 'pre'\n",
        "drop_embed = 0.2\n",
        "\n",
        "#conv \n",
        "n_con = 256\n",
        "k_con = 3\n",
        "\n",
        "#NN\n",
        "n_dense = 256\n",
        "dropout = 0.2"
      ],
      "execution_count": 0,
      "outputs": []
    },
    {
      "metadata": {
        "id": "ZjYQiiizD-KM",
        "colab_type": "text"
      },
      "cell_type": "markdown",
      "source": [
        "**Load Data**"
      ]
    },
    {
      "metadata": {
        "id": "DdNDRZnPD-Kd",
        "colab_type": "code",
        "colab": {
          "autoexec": {
            "startup": false,
            "wait_interval": 0
          }
        }
      },
      "cell_type": "code",
      "source": [
        "(X_train,y_train),(X_valid,y_valid) = imdb.load_data(num_words=n_unique_words)"
      ],
      "execution_count": 0,
      "outputs": []
    },
    {
      "metadata": {
        "id": "_fJGaG8cD-LJ",
        "colab_type": "code",
        "colab": {
          "autoexec": {
            "startup": false,
            "wait_interval": 0
          },
          "base_uri": "https://localhost:8080/",
          "height": 34
        },
        "outputId": "ce724d5f-8fe2-45a3-888f-290dc0849901",
        "executionInfo": {
          "status": "ok",
          "timestamp": 1530790046573,
          "user_tz": -330,
          "elapsed": 949,
          "user": {
            "displayName": "Vedic Partap",
            "photoUrl": "//lh5.googleusercontent.com/-stb1YW11b9c/AAAAAAAAAAI/AAAAAAAAAJM/TmxIMRH4eg0/s50-c-k-no/photo.jpg",
            "userId": "115099165204027443854"
          }
        }
      },
      "cell_type": "code",
      "source": [
        "X_train.shape,y_train.shape"
      ],
      "execution_count": 5,
      "outputs": [
        {
          "output_type": "execute_result",
          "data": {
            "text/plain": [
              "((25000,), (25000,))"
            ]
          },
          "metadata": {
            "tags": []
          },
          "execution_count": 5
        }
      ]
    },
    {
      "metadata": {
        "id": "PEcesQGqD-Lm",
        "colab_type": "code",
        "colab": {
          "autoexec": {
            "startup": false,
            "wait_interval": 0
          },
          "base_uri": "https://localhost:8080/",
          "height": 34
        },
        "outputId": "5b3a060d-a39a-4fb5-f20f-3639006f8322",
        "executionInfo": {
          "status": "ok",
          "timestamp": 1530790048029,
          "user_tz": -330,
          "elapsed": 817,
          "user": {
            "displayName": "Vedic Partap",
            "photoUrl": "//lh5.googleusercontent.com/-stb1YW11b9c/AAAAAAAAAAI/AAAAAAAAAJM/TmxIMRH4eg0/s50-c-k-no/photo.jpg",
            "userId": "115099165204027443854"
          }
        }
      },
      "cell_type": "code",
      "source": [
        "X_valid.shape,y_valid.shape"
      ],
      "execution_count": 6,
      "outputs": [
        {
          "output_type": "execute_result",
          "data": {
            "text/plain": [
              "((25000,), (25000,))"
            ]
          },
          "metadata": {
            "tags": []
          },
          "execution_count": 6
        }
      ]
    },
    {
      "metadata": {
        "id": "A-sn8_OAD-Mh",
        "colab_type": "text"
      },
      "cell_type": "markdown",
      "source": [
        "**Restoring the word from word index**"
      ]
    },
    {
      "metadata": {
        "id": "yJ6dH9QMD-M0",
        "colab_type": "code",
        "colab": {
          "autoexec": {
            "startup": false,
            "wait_interval": 0
          }
        }
      },
      "cell_type": "code",
      "source": [
        "word_index = keras.datasets.imdb.get_word_index()\n",
        "word_index = {k:(v+3) for k,v in word_index.items()}"
      ],
      "execution_count": 0,
      "outputs": []
    },
    {
      "metadata": {
        "id": "5ydAVV5rD-NX",
        "colab_type": "code",
        "colab": {
          "autoexec": {
            "startup": false,
            "wait_interval": 0
          }
        }
      },
      "cell_type": "code",
      "source": [
        "#Manually set the PAD , START, UNK indexes \n",
        "word_index['PAD']=0\n",
        "word_index['START']=1\n",
        "word_index['UNK']=2"
      ],
      "execution_count": 0,
      "outputs": []
    },
    {
      "metadata": {
        "id": "QPv-67EtD-N1",
        "colab_type": "text"
      },
      "cell_type": "markdown",
      "source": [
        "**Preprocess Data**"
      ]
    },
    {
      "metadata": {
        "id": "SWDDkov5D-N4",
        "colab_type": "code",
        "colab": {
          "autoexec": {
            "startup": false,
            "wait_interval": 0
          }
        }
      },
      "cell_type": "code",
      "source": [
        "X_train = pad_sequences(X_train,maxlen=max_review_length,padding=pad_type,value=0)\n",
        "X_valid = pad_sequences(X_valid,maxlen=max_review_length,padding=pad_type,value=0)"
      ],
      "execution_count": 0,
      "outputs": []
    },
    {
      "metadata": {
        "id": "QXMxPJkXD-PJ",
        "colab_type": "text"
      },
      "cell_type": "markdown",
      "source": [
        "**Design Neural Network**"
      ]
    },
    {
      "metadata": {
        "id": "Yt3r671iD-PU",
        "colab_type": "code",
        "colab": {
          "autoexec": {
            "startup": false,
            "wait_interval": 0
          }
        }
      },
      "cell_type": "code",
      "source": [
        "model = Sequential()\n",
        "model.add(Embedding(n_unique_words, n_dim, input_length=max_review_length))\n",
        "model.add(SpatialDropout1D(drop_embed))\n",
        "model.add(Conv1D(n_con,k_con,activation='relu'))\n",
        "model.add(GlobalMaxPooling1D())\n",
        "model.add(Dense(n_dense, activation='relu'))\n",
        "model.add(Dropout(dropout))\n",
        "model.add(Dense(1,activation='sigmoid'))\n"
      ],
      "execution_count": 0,
      "outputs": []
    },
    {
      "metadata": {
        "id": "vGWTRyYpD-Pt",
        "colab_type": "code",
        "colab": {
          "autoexec": {
            "startup": false,
            "wait_interval": 0
          },
          "base_uri": "https://localhost:8080/",
          "height": 382
        },
        "outputId": "27e0c5ea-c32e-40bb-90db-4a7334bd07ee",
        "executionInfo": {
          "status": "ok",
          "timestamp": 1530790055918,
          "user_tz": -330,
          "elapsed": 736,
          "user": {
            "displayName": "Vedic Partap",
            "photoUrl": "//lh5.googleusercontent.com/-stb1YW11b9c/AAAAAAAAAAI/AAAAAAAAAJM/TmxIMRH4eg0/s50-c-k-no/photo.jpg",
            "userId": "115099165204027443854"
          }
        }
      },
      "cell_type": "code",
      "source": [
        "model.summary()"
      ],
      "execution_count": 11,
      "outputs": [
        {
          "output_type": "stream",
          "text": [
            "_________________________________________________________________\n",
            "Layer (type)                 Output Shape              Param #   \n",
            "=================================================================\n",
            "embedding_1 (Embedding)      (None, 300, 64)           320000    \n",
            "_________________________________________________________________\n",
            "spatial_dropout1d_1 (Spatial (None, 300, 64)           0         \n",
            "_________________________________________________________________\n",
            "conv1d_1 (Conv1D)            (None, 298, 256)          49408     \n",
            "_________________________________________________________________\n",
            "global_max_pooling1d_1 (Glob (None, 256)               0         \n",
            "_________________________________________________________________\n",
            "dense_1 (Dense)              (None, 256)               65792     \n",
            "_________________________________________________________________\n",
            "dropout_1 (Dropout)          (None, 256)               0         \n",
            "_________________________________________________________________\n",
            "dense_2 (Dense)              (None, 1)                 257       \n",
            "=================================================================\n",
            "Total params: 435,457\n",
            "Trainable params: 435,457\n",
            "Non-trainable params: 0\n",
            "_________________________________________________________________\n"
          ],
          "name": "stdout"
        }
      ]
    },
    {
      "metadata": {
        "id": "HEMIcxb-D-Qq",
        "colab_type": "text"
      },
      "cell_type": "markdown",
      "source": [
        "**Confihure Model**"
      ]
    },
    {
      "metadata": {
        "id": "NMFY2IqmD-Qy",
        "colab_type": "code",
        "colab": {
          "autoexec": {
            "startup": false,
            "wait_interval": 0
          }
        }
      },
      "cell_type": "code",
      "source": [
        "model.compile(loss='binary_crossentropy',optimizer='adam',metrics=['accuracy'])"
      ],
      "execution_count": 0,
      "outputs": []
    },
    {
      "metadata": {
        "id": "Im8GhU8pD-RV",
        "colab_type": "code",
        "colab": {
          "autoexec": {
            "startup": false,
            "wait_interval": 0
          }
        }
      },
      "cell_type": "code",
      "source": [
        "modelcheckpoint = ModelCheckpoint(filepath=output_dir+\"/weights.{epoch:02d}.hdf5\")"
      ],
      "execution_count": 0,
      "outputs": []
    },
    {
      "metadata": {
        "id": "NjtndPiYD-R6",
        "colab_type": "code",
        "colab": {
          "autoexec": {
            "startup": false,
            "wait_interval": 0
          }
        }
      },
      "cell_type": "code",
      "source": [
        "# Check if the output dir is present or not\n",
        "if not os.path.exists(output_dir):\n",
        "    os.makedirs(output_dir)"
      ],
      "execution_count": 0,
      "outputs": []
    },
    {
      "metadata": {
        "id": "OfURLbE_D-SA",
        "colab_type": "text"
      },
      "cell_type": "markdown",
      "source": [
        "**Train :) **"
      ]
    },
    {
      "metadata": {
        "id": "4RZiTN34D-SV",
        "colab_type": "code",
        "colab": {
          "autoexec": {
            "startup": false,
            "wait_interval": 0
          },
          "base_uri": "https://localhost:8080/",
          "height": 34
        },
        "outputId": "6dcab421-daab-4be6-cc10-2b9e60f7824d",
        "executionInfo": {
          "status": "ok",
          "timestamp": 1530790060450,
          "user_tz": -330,
          "elapsed": 1049,
          "user": {
            "displayName": "Vedic Partap",
            "photoUrl": "//lh5.googleusercontent.com/-stb1YW11b9c/AAAAAAAAAAI/AAAAAAAAAJM/TmxIMRH4eg0/s50-c-k-no/photo.jpg",
            "userId": "115099165204027443854"
          }
        }
      },
      "cell_type": "code",
      "source": [
        "X_valid.shape,y_valid.shape"
      ],
      "execution_count": 15,
      "outputs": [
        {
          "output_type": "execute_result",
          "data": {
            "text/plain": [
              "((25000, 300), (25000,))"
            ]
          },
          "metadata": {
            "tags": []
          },
          "execution_count": 15
        }
      ]
    },
    {
      "metadata": {
        "id": "C4IHBOW9D-TD",
        "colab_type": "code",
        "colab": {
          "autoexec": {
            "startup": false,
            "wait_interval": 0
          },
          "base_uri": "https://localhost:8080/",
          "height": 211
        },
        "outputId": "ecb9e20d-053a-4308-f4d7-6cef0c8e601a",
        "executionInfo": {
          "status": "ok",
          "timestamp": 1530790088437,
          "user_tz": -330,
          "elapsed": 27859,
          "user": {
            "displayName": "Vedic Partap",
            "photoUrl": "//lh5.googleusercontent.com/-stb1YW11b9c/AAAAAAAAAAI/AAAAAAAAAJM/TmxIMRH4eg0/s50-c-k-no/photo.jpg",
            "userId": "115099165204027443854"
          }
        }
      },
      "cell_type": "code",
      "source": [
        "# 85.7% validation accuracy in epoch 1\n",
        "model.fit(X_train, y_train, batch_size=batch_size, epochs=epochs,verbose=1, validation_data=(X_valid, y_valid), callbacks=[modelcheckpoint])"
      ],
      "execution_count": 16,
      "outputs": [
        {
          "output_type": "stream",
          "text": [
            "Train on 25000 samples, validate on 25000 samples\n",
            "Epoch 1/4\n",
            "25000/25000 [==============================] - 8s 313us/step - loss: 0.4942 - acc: 0.7419 - val_loss: 0.3000 - val_acc: 0.8729\n",
            "Epoch 2/4\n",
            "25000/25000 [==============================] - 6s 244us/step - loss: 0.2623 - acc: 0.8936 - val_loss: 0.2704 - val_acc: 0.8866\n",
            "Epoch 3/4\n",
            "25000/25000 [==============================] - 6s 243us/step - loss: 0.1778 - acc: 0.9329 - val_loss: 0.2669 - val_acc: 0.8908\n",
            "Epoch 4/4\n",
            "21504/25000 [========================>.....] - ETA: 0s - loss: 0.1186 - acc: 0.9602"
          ],
          "name": "stdout"
        },
        {
          "output_type": "stream",
          "text": [
            "25000/25000 [==============================] - 6s 245us/step - loss: 0.1191 - acc: 0.9594 - val_loss: 0.2890 - val_acc: 0.8886\n"
          ],
          "name": "stdout"
        },
        {
          "output_type": "execute_result",
          "data": {
            "text/plain": [
              "<keras.callbacks.History at 0x7f030ca85b00>"
            ]
          },
          "metadata": {
            "tags": []
          },
          "execution_count": 16
        }
      ]
    },
    {
      "metadata": {
        "id": "qBADACrtD-Tl",
        "colab_type": "code",
        "colab": {
          "autoexec": {
            "startup": false,
            "wait_interval": 0
          }
        }
      },
      "cell_type": "code",
      "source": [
        "model.load_weights(output_dir+\"/weights.02.hdf5\")"
      ],
      "execution_count": 0,
      "outputs": []
    },
    {
      "metadata": {
        "id": "DrKkSBm1D-UL",
        "colab_type": "code",
        "colab": {
          "autoexec": {
            "startup": false,
            "wait_interval": 0
          }
        }
      },
      "cell_type": "code",
      "source": [
        "y_hat = model.predict_proba(X_valid)"
      ],
      "execution_count": 0,
      "outputs": []
    },
    {
      "metadata": {
        "id": "1KhzgZp4D-VK",
        "colab_type": "code",
        "colab": {
          "autoexec": {
            "startup": false,
            "wait_interval": 0
          },
          "base_uri": "https://localhost:8080/",
          "height": 297
        },
        "outputId": "1b2f1d29-70e9-43d9-90af-beb6259ce0c0",
        "executionInfo": {
          "status": "ok",
          "timestamp": 1530790093617,
          "user_tz": -330,
          "elapsed": 1000,
          "user": {
            "displayName": "Vedic Partap",
            "photoUrl": "//lh5.googleusercontent.com/-stb1YW11b9c/AAAAAAAAAAI/AAAAAAAAAJM/TmxIMRH4eg0/s50-c-k-no/photo.jpg",
            "userId": "115099165204027443854"
          }
        }
      },
      "cell_type": "code",
      "source": [
        "plt.hist(y_hat)\n",
        "_ = plt.axvline(x=0.5, color='orange')\n",
        "plt.tight_layout()"
      ],
      "execution_count": 19,
      "outputs": [
        {
          "output_type": "display_data",
          "data": {
            "image/png": "[encoded data removed]",
            "text/plain": [
              "<matplotlib.figure.Figure at 0x7f0315a04da0>"
            ]
          },
          "metadata": {
            "tags": []
          }
        }
      ]
    },
    {
      "metadata": {
        "id": "J_4V4s_dD-Vx",
        "colab_type": "text"
      },
      "cell_type": "markdown",
      "source": [
        "**Evaluate the model**"
      ]
    },
    {
      "metadata": {
        "id": "sWYKtdvzD-V7",
        "colab_type": "code",
        "colab": {
          "autoexec": {
            "startup": false,
            "wait_interval": 0
          }
        }
      },
      "cell_type": "code",
      "source": [
        "auc = roc_auc_score(y_valid,y_hat)*100"
      ],
      "execution_count": 0,
      "outputs": []
    },
    {
      "metadata": {
        "id": "8D5jInOrD-WT",
        "colab_type": "code",
        "colab": {
          "autoexec": {
            "startup": false,
            "wait_interval": 0
          },
          "base_uri": "https://localhost:8080/",
          "height": 34
        },
        "outputId": "08eec527-9c14-4bc9-f234-22cb060e8ecb",
        "executionInfo": {
          "status": "ok",
          "timestamp": 1530790095768,
          "user_tz": -330,
          "elapsed": 739,
          "user": {
            "displayName": "Vedic Partap",
            "photoUrl": "//lh5.googleusercontent.com/-stb1YW11b9c/AAAAAAAAAAI/AAAAAAAAAJM/TmxIMRH4eg0/s50-c-k-no/photo.jpg",
            "userId": "115099165204027443854"
          }
        }
      },
      "cell_type": "code",
      "source": [
        "\"{:0.2f}\".format(auc)"
      ],
      "execution_count": 21,
      "outputs": [
        {
          "output_type": "execute_result",
          "data": {
            "text/plain": [
              "'95.77'"
            ]
          },
          "metadata": {
            "tags": []
          },
          "execution_count": 21
        }
      ]
    },
    {
      "metadata": {
        "id": "WxcBH7ycJFdl",
        "colab_type": "code",
        "colab": {
          "autoexec": {
            "startup": false,
            "wait_interval": 0
          }
        }
      },
      "cell_type": "code",
      "source": [
        ""
      ],
      "execution_count": 0,
      "outputs": []
    }
  ]
}